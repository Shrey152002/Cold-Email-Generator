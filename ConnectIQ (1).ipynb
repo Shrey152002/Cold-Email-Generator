{
 "cells": [
  {
   "cell_type": "code",
   "execution_count": 1,
   "metadata": {
    "colab": {
     "base_uri": "https://localhost:8080/"
    },
    "id": "bHvW6suyEzV-",
    "outputId": "fb49576a-69e2-4367-87de-4487a15fdd0f"
   },
   "outputs": [],
   "source": [
    "!python -m pip install -qU langchain-groq --upgrade pip"
   ]
  },
  {
   "cell_type": "code",
   "execution_count": 2,
   "metadata": {
    "colab": {
     "base_uri": "https://localhost:8080/"
    },
    "id": "ezDDgAY3E1Pg",
    "outputId": "a579888d-3834-49a9-e068-1d5071ad2cbb"
   },
   "outputs": [],
   "source": [
    "import getpass\n",
    "import os\n",
    "\n",
    "if \"GROQ_API_KEY\" not in os.environ:\n",
    "    os.environ[\"GROQ_API_KEY\"] = getpass.getpass(\"****")"
   ]
  },
  {
   "cell_type": "code",
   "execution_count": 3,
   "metadata": {
    "colab": {
     "base_uri": "https://localhost:8080/"
    },
    "id": "rqJi8uFtGAxO",
    "outputId": "195dca1d-fc5a-492c-cb70-90c775f79e5f"
   },
   "outputs": [
    {
     "name": "stdout",
     "output_type": "stream",
     "text": [
      "Requirement already satisfied: langchain-groq in c:\\users\\shreyash verma\\.conda\\envs\\ienv\\lib\\site-packages (0.1.10)\n",
      "Requirement already satisfied: groq<1,>=0.4.1 in c:\\users\\shreyash verma\\.conda\\envs\\ienv\\lib\\site-packages (from langchain-groq) (0.12.0)\n",
      "Requirement already satisfied: langchain-core<0.3.0,>=0.2.39 in c:\\users\\shreyash verma\\.conda\\envs\\ienv\\lib\\site-packages (from langchain-groq) (0.2.43)\n",
      "Requirement already satisfied: anyio<5,>=3.5.0 in c:\\users\\shreyash verma\\.conda\\envs\\ienv\\lib\\site-packages (from groq<1,>=0.4.1->langchain-groq) (4.4.0)\n",
      "Requirement already satisfied: distro<2,>=1.7.0 in c:\\users\\shreyash verma\\.conda\\envs\\ienv\\lib\\site-packages (from groq<1,>=0.4.1->langchain-groq) (1.9.0)\n",
      "Requirement already satisfied: httpx<1,>=0.23.0 in c:\\users\\shreyash verma\\.conda\\envs\\ienv\\lib\\site-packages (from groq<1,>=0.4.1->langchain-groq) (0.27.2)\n",
      "Requirement already satisfied: pydantic<3,>=1.9.0 in c:\\users\\shreyash verma\\.conda\\envs\\ienv\\lib\\site-packages (from groq<1,>=0.4.1->langchain-groq) (2.8.2)\n",
      "Requirement already satisfied: sniffio in c:\\users\\shreyash verma\\.conda\\envs\\ienv\\lib\\site-packages (from groq<1,>=0.4.1->langchain-groq) (1.3.1)\n",
      "Requirement already satisfied: typing-extensions<5,>=4.7 in c:\\users\\shreyash verma\\.conda\\envs\\ienv\\lib\\site-packages (from groq<1,>=0.4.1->langchain-groq) (4.12.2)\n",
      "Requirement already satisfied: PyYAML>=5.3 in c:\\users\\shreyash verma\\.conda\\envs\\ienv\\lib\\site-packages (from langchain-core<0.3.0,>=0.2.39->langchain-groq) (6.0.1)\n",
      "Requirement already satisfied: jsonpatch<2.0,>=1.33 in c:\\users\\shreyash verma\\.conda\\envs\\ienv\\lib\\site-packages (from langchain-core<0.3.0,>=0.2.39->langchain-groq) (1.33)\n",
      "Requirement already satisfied: langsmith<0.2.0,>=0.1.112 in c:\\users\\shreyash verma\\.conda\\envs\\ienv\\lib\\site-packages (from langchain-core<0.3.0,>=0.2.39->langchain-groq) (0.1.143)\n",
      "Requirement already satisfied: packaging<25,>=23.2 in c:\\users\\shreyash verma\\.conda\\envs\\ienv\\lib\\site-packages (from langchain-core<0.3.0,>=0.2.39->langchain-groq) (24.1)\n",
      "Requirement already satisfied: tenacity!=8.4.0,<9.0.0,>=8.1.0 in c:\\users\\shreyash verma\\.conda\\envs\\ienv\\lib\\site-packages (from langchain-core<0.3.0,>=0.2.39->langchain-groq) (8.5.0)\n",
      "Requirement already satisfied: idna>=2.8 in c:\\users\\shreyash verma\\.conda\\envs\\ienv\\lib\\site-packages (from anyio<5,>=3.5.0->groq<1,>=0.4.1->langchain-groq) (3.7)\n",
      "Requirement already satisfied: exceptiongroup>=1.0.2 in c:\\users\\shreyash verma\\.conda\\envs\\ienv\\lib\\site-packages (from anyio<5,>=3.5.0->groq<1,>=0.4.1->langchain-groq) (1.2.2)\n",
      "Requirement already satisfied: certifi in c:\\users\\shreyash verma\\.conda\\envs\\ienv\\lib\\site-packages (from httpx<1,>=0.23.0->groq<1,>=0.4.1->langchain-groq) (2024.8.30)\n",
      "Requirement already satisfied: httpcore==1.* in c:\\users\\shreyash verma\\.conda\\envs\\ienv\\lib\\site-packages (from httpx<1,>=0.23.0->groq<1,>=0.4.1->langchain-groq) (1.0.5)\n",
      "Requirement already satisfied: h11<0.15,>=0.13 in c:\\users\\shreyash verma\\.conda\\envs\\ienv\\lib\\site-packages (from httpcore==1.*->httpx<1,>=0.23.0->groq<1,>=0.4.1->langchain-groq) (0.14.0)\n",
      "Requirement already satisfied: jsonpointer>=1.9 in c:\\users\\shreyash verma\\.conda\\envs\\ienv\\lib\\site-packages (from jsonpatch<2.0,>=1.33->langchain-core<0.3.0,>=0.2.39->langchain-groq) (3.0.0)\n",
      "Requirement already satisfied: orjson<4.0.0,>=3.9.14 in c:\\users\\shreyash verma\\.conda\\envs\\ienv\\lib\\site-packages (from langsmith<0.2.0,>=0.1.112->langchain-core<0.3.0,>=0.2.39->langchain-groq) (3.10.11)\n",
      "Requirement already satisfied: requests<3,>=2 in c:\\users\\shreyash verma\\.conda\\envs\\ienv\\lib\\site-packages (from langsmith<0.2.0,>=0.1.112->langchain-core<0.3.0,>=0.2.39->langchain-groq) (2.32.3)\n",
      "Requirement already satisfied: requests-toolbelt<2.0.0,>=1.0.0 in c:\\users\\shreyash verma\\.conda\\envs\\ienv\\lib\\site-packages (from langsmith<0.2.0,>=0.1.112->langchain-core<0.3.0,>=0.2.39->langchain-groq) (1.0.0)\n",
      "Requirement already satisfied: annotated-types>=0.4.0 in c:\\users\\shreyash verma\\.conda\\envs\\ienv\\lib\\site-packages (from pydantic<3,>=1.9.0->groq<1,>=0.4.1->langchain-groq) (0.7.0)\n",
      "Requirement already satisfied: pydantic-core==2.20.1 in c:\\users\\shreyash verma\\.conda\\envs\\ienv\\lib\\site-packages (from pydantic<3,>=1.9.0->groq<1,>=0.4.1->langchain-groq) (2.20.1)\n",
      "Requirement already satisfied: charset-normalizer<4,>=2 in c:\\users\\shreyash verma\\.conda\\envs\\ienv\\lib\\site-packages (from requests<3,>=2->langsmith<0.2.0,>=0.1.112->langchain-core<0.3.0,>=0.2.39->langchain-groq) (3.3.2)\n",
      "Requirement already satisfied: urllib3<3,>=1.21.1 in c:\\users\\shreyash verma\\.conda\\envs\\ienv\\lib\\site-packages (from requests<3,>=2->langsmith<0.2.0,>=0.1.112->langchain-core<0.3.0,>=0.2.39->langchain-groq) (2.2.2)\n"
     ]
    }
   ],
   "source": [
    "!python -m pip install langchain-groq\n"
   ]
  },
  {
   "cell_type": "code",
   "execution_count": 4,
   "metadata": {
    "id": "lfZcwQN9GAuL"
   },
   "outputs": [],
   "source": [
    "from langchain_groq import ChatGroq\n"
   ]
  },
  {
   "cell_type": "code",
   "execution_count": 5,
   "metadata": {
    "colab": {
     "base_uri": "https://localhost:8080/"
    },
    "id": "P8_o3aAGFve-",
    "outputId": "bc4bef08-edd6-4cb2-b40d-2cc563e00100"
   },
   "outputs": [
    {
     "name": "stdout",
     "output_type": "stream",
     "text": [
      "Requirement already satisfied: langchain in c:\\users\\shreyash verma\\.conda\\envs\\ienv\\lib\\site-packages (0.2.17)\n",
      "Requirement already satisfied: PyYAML>=5.3 in c:\\users\\shreyash verma\\.conda\\envs\\ienv\\lib\\site-packages (from langchain) (6.0.1)\n",
      "Requirement already satisfied: SQLAlchemy<3,>=1.4 in c:\\users\\shreyash verma\\.conda\\envs\\ienv\\lib\\site-packages (from langchain) (2.0.32)\n",
      "Requirement already satisfied: aiohttp<4.0.0,>=3.8.3 in c:\\users\\shreyash verma\\.conda\\envs\\ienv\\lib\\site-packages (from langchain) (3.10.11)\n",
      "Requirement already satisfied: async-timeout<5.0.0,>=4.0.0 in c:\\users\\shreyash verma\\.conda\\envs\\ienv\\lib\\site-packages (from langchain) (4.0.3)\n",
      "Requirement already satisfied: langchain-core<0.3.0,>=0.2.43 in c:\\users\\shreyash verma\\.conda\\envs\\ienv\\lib\\site-packages (from langchain) (0.2.43)\n",
      "Requirement already satisfied: langchain-text-splitters<0.3.0,>=0.2.0 in c:\\users\\shreyash verma\\.conda\\envs\\ienv\\lib\\site-packages (from langchain) (0.2.4)\n",
      "Requirement already satisfied: langsmith<0.2.0,>=0.1.17 in c:\\users\\shreyash verma\\.conda\\envs\\ienv\\lib\\site-packages (from langchain) (0.1.143)\n",
      "Requirement already satisfied: numpy<2,>=1 in c:\\users\\shreyash verma\\.conda\\envs\\ienv\\lib\\site-packages (from langchain) (1.24.3)\n",
      "Requirement already satisfied: pydantic<3,>=1 in c:\\users\\shreyash verma\\.conda\\envs\\ienv\\lib\\site-packages (from langchain) (2.8.2)\n",
      "Requirement already satisfied: requests<3,>=2 in c:\\users\\shreyash verma\\.conda\\envs\\ienv\\lib\\site-packages (from langchain) (2.32.3)\n",
      "Requirement already satisfied: tenacity!=8.4.0,<9.0.0,>=8.1.0 in c:\\users\\shreyash verma\\.conda\\envs\\ienv\\lib\\site-packages (from langchain) (8.5.0)\n",
      "Requirement already satisfied: aiohappyeyeballs>=2.3.0 in c:\\users\\shreyash verma\\.conda\\envs\\ienv\\lib\\site-packages (from aiohttp<4.0.0,>=3.8.3->langchain) (2.4.3)\n",
      "Requirement already satisfied: aiosignal>=1.1.2 in c:\\users\\shreyash verma\\.conda\\envs\\ienv\\lib\\site-packages (from aiohttp<4.0.0,>=3.8.3->langchain) (1.3.1)\n",
      "Requirement already satisfied: attrs>=17.3.0 in c:\\users\\shreyash verma\\.conda\\envs\\ienv\\lib\\site-packages (from aiohttp<4.0.0,>=3.8.3->langchain) (24.2.0)\n",
      "Requirement already satisfied: frozenlist>=1.1.1 in c:\\users\\shreyash verma\\.conda\\envs\\ienv\\lib\\site-packages (from aiohttp<4.0.0,>=3.8.3->langchain) (1.5.0)\n",
      "Requirement already satisfied: multidict<7.0,>=4.5 in c:\\users\\shreyash verma\\.conda\\envs\\ienv\\lib\\site-packages (from aiohttp<4.0.0,>=3.8.3->langchain) (6.1.0)\n",
      "Requirement already satisfied: yarl<2.0,>=1.12.0 in c:\\users\\shreyash verma\\.conda\\envs\\ienv\\lib\\site-packages (from aiohttp<4.0.0,>=3.8.3->langchain) (1.15.2)\n",
      "Requirement already satisfied: jsonpatch<2.0,>=1.33 in c:\\users\\shreyash verma\\.conda\\envs\\ienv\\lib\\site-packages (from langchain-core<0.3.0,>=0.2.43->langchain) (1.33)\n",
      "Requirement already satisfied: packaging<25,>=23.2 in c:\\users\\shreyash verma\\.conda\\envs\\ienv\\lib\\site-packages (from langchain-core<0.3.0,>=0.2.43->langchain) (24.1)\n",
      "Requirement already satisfied: typing-extensions>=4.7 in c:\\users\\shreyash verma\\.conda\\envs\\ienv\\lib\\site-packages (from langchain-core<0.3.0,>=0.2.43->langchain) (4.12.2)\n",
      "Requirement already satisfied: httpx<1,>=0.23.0 in c:\\users\\shreyash verma\\.conda\\envs\\ienv\\lib\\site-packages (from langsmith<0.2.0,>=0.1.17->langchain) (0.27.2)\n",
      "Requirement already satisfied: orjson<4.0.0,>=3.9.14 in c:\\users\\shreyash verma\\.conda\\envs\\ienv\\lib\\site-packages (from langsmith<0.2.0,>=0.1.17->langchain) (3.10.11)\n",
      "Requirement already satisfied: requests-toolbelt<2.0.0,>=1.0.0 in c:\\users\\shreyash verma\\.conda\\envs\\ienv\\lib\\site-packages (from langsmith<0.2.0,>=0.1.17->langchain) (1.0.0)\n",
      "Requirement already satisfied: annotated-types>=0.4.0 in c:\\users\\shreyash verma\\.conda\\envs\\ienv\\lib\\site-packages (from pydantic<3,>=1->langchain) (0.7.0)\n",
      "Requirement already satisfied: pydantic-core==2.20.1 in c:\\users\\shreyash verma\\.conda\\envs\\ienv\\lib\\site-packages (from pydantic<3,>=1->langchain) (2.20.1)\n",
      "Requirement already satisfied: charset-normalizer<4,>=2 in c:\\users\\shreyash verma\\.conda\\envs\\ienv\\lib\\site-packages (from requests<3,>=2->langchain) (3.3.2)\n",
      "Requirement already satisfied: idna<4,>=2.5 in c:\\users\\shreyash verma\\.conda\\envs\\ienv\\lib\\site-packages (from requests<3,>=2->langchain) (3.7)\n",
      "Requirement already satisfied: urllib3<3,>=1.21.1 in c:\\users\\shreyash verma\\.conda\\envs\\ienv\\lib\\site-packages (from requests<3,>=2->langchain) (2.2.2)\n",
      "Requirement already satisfied: certifi>=2017.4.17 in c:\\users\\shreyash verma\\.conda\\envs\\ienv\\lib\\site-packages (from requests<3,>=2->langchain) (2024.8.30)\n",
      "Requirement already satisfied: greenlet!=0.4.17 in c:\\users\\shreyash verma\\.conda\\envs\\ienv\\lib\\site-packages (from SQLAlchemy<3,>=1.4->langchain) (3.0.3)\n",
      "Requirement already satisfied: anyio in c:\\users\\shreyash verma\\.conda\\envs\\ienv\\lib\\site-packages (from httpx<1,>=0.23.0->langsmith<0.2.0,>=0.1.17->langchain) (4.4.0)\n",
      "Requirement already satisfied: httpcore==1.* in c:\\users\\shreyash verma\\.conda\\envs\\ienv\\lib\\site-packages (from httpx<1,>=0.23.0->langsmith<0.2.0,>=0.1.17->langchain) (1.0.5)\n",
      "Requirement already satisfied: sniffio in c:\\users\\shreyash verma\\.conda\\envs\\ienv\\lib\\site-packages (from httpx<1,>=0.23.0->langsmith<0.2.0,>=0.1.17->langchain) (1.3.1)\n",
      "Requirement already satisfied: h11<0.15,>=0.13 in c:\\users\\shreyash verma\\.conda\\envs\\ienv\\lib\\site-packages (from httpcore==1.*->httpx<1,>=0.23.0->langsmith<0.2.0,>=0.1.17->langchain) (0.14.0)\n",
      "Requirement already satisfied: jsonpointer>=1.9 in c:\\users\\shreyash verma\\.conda\\envs\\ienv\\lib\\site-packages (from jsonpatch<2.0,>=1.33->langchain-core<0.3.0,>=0.2.43->langchain) (3.0.0)\n",
      "Requirement already satisfied: propcache>=0.2.0 in c:\\users\\shreyash verma\\.conda\\envs\\ienv\\lib\\site-packages (from yarl<2.0,>=1.12.0->aiohttp<4.0.0,>=3.8.3->langchain) (0.2.0)\n",
      "Requirement already satisfied: exceptiongroup>=1.0.2 in c:\\users\\shreyash verma\\.conda\\envs\\ienv\\lib\\site-packages (from anyio->httpx<1,>=0.23.0->langsmith<0.2.0,>=0.1.17->langchain) (1.2.2)\n"
     ]
    }
   ],
   "source": [
    "!python -m pip install langchain"
   ]
  },
  {
   "cell_type": "code",
   "execution_count": 6,
   "metadata": {
    "id": "iz8LJhgoFEZj"
   },
   "outputs": [],
   "source": [
    "llm = ChatGroq(\n",
    "    temperature=0,\n",
    "    groq_api_key='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',\n",
    "    model_name=\"llama-3.1-70b-versatile\",\n",
    "    # Limit the number of tokens generated in the response\n",
    "    max_tokens=1024  # Adjust this value as needed\n",
    ")"
   ]
  },
  {
   "cell_type": "code",
   "execution_count": 7,
   "metadata": {
    "colab": {
     "base_uri": "https://localhost:8080/"
    },
    "id": "fBKgIc5rddya",
    "outputId": "f85133d1-33f6-4599-ebf9-cbd1a6485836"
   },
   "outputs": [],
   "source": [
    "!python -m pip install -qU langchain_community beautifulsoup4"
   ]
  },
  {
   "cell_type": "code",
   "execution_count": 8,
   "metadata": {
    "colab": {
     "base_uri": "https://localhost:8080/"
    },
    "id": "d-HztxzCHNo6",
    "outputId": "b1492016-c5cb-42df-a811-2966dafb03e1"
   },
   "outputs": [
    {
     "name": "stderr",
     "output_type": "stream",
     "text": [
      "USER_AGENT environment variable not set, consider setting it to identify your requests.\n"
     ]
    }
   ],
   "source": [
    "from langchain_community.document_loaders import WebBaseLoader\n",
    "\n"
   ]
  },
  {
   "cell_type": "code",
   "execution_count": 9,
   "metadata": {
    "id": "86jHYSK0r_rz"
   },
   "outputs": [],
   "source": [
    "\n",
    "loader = WebBaseLoader(\"https://careers.walmart.com/\")\n",
    "page_data = loader.load().pop().page_content\n",
    "\n",
    "# Split the page_data into smaller chunks if it's too large\n",
    "chunk_size = 2048  # Adjust this value to find the optimal chunk size\n",
    "page_data_chunks = [page_data[i:i + chunk_size] for i in range(0, len(page_data), chunk_size)]\n"
   ]
  },
  {
   "cell_type": "code",
   "execution_count": 10,
   "metadata": {
    "colab": {
     "base_uri": "https://localhost:8080/"
    },
    "id": "-g2jEAwpuSTz",
    "outputId": "255789ca-17a3-4983-fba6-8bcb58acb9c9"
   },
   "outputs": [
    {
     "data": {
      "text/plain": [
       "str"
      ]
     },
     "execution_count": 10,
     "metadata": {},
     "output_type": "execute_result"
    }
   ],
   "source": [
    "from langchain_core.prompts import PromptTemplate\n",
    "\n",
    "prompt_extract = PromptTemplate.from_template(\n",
    "        \"\"\"\n",
    "        ### SCRAPED TEXT FROM WEBSITE:\n",
    "        {page_data}\n",
    "        ### INSTRUCTION:\n",
    "        The scraped text is from the career's page of a website.\n",
    "        Your job is to extract the job postings and return them in JSON format containing the\n",
    "        following keys: `role`, `experience`, `skills` and `description`.\n",
    "        Only return the valid JSON.\n",
    "        ### VALID JSON (NO PREAMBLE):\n",
    "        \"\"\"\n",
    ")\n",
    "\n",
    "chain_extract = prompt_extract | llm\n",
    "res = chain_extract.invoke(input={'page_data':page_data})\n",
    "type(res.content)"
   ]
  },
  {
   "cell_type": "code",
   "execution_count": 11,
   "metadata": {
    "colab": {
     "base_uri": "https://localhost:8080/"
    },
    "id": "_jNkspdNpU6k",
    "outputId": "76845b47-5890-47d5-c29d-a7ee41331859"
   },
   "outputs": [
    {
     "data": {
      "text/plain": [
       "[{'role': 'Walmart Store Manager',\n",
       "  'experience': 'Management',\n",
       "  'skills': 'Leadership, Retail Management',\n",
       "  'description': 'Walmart store managers are the best leaders in retail, and we’re investing in them – simplifying their pay structure and redesigning their bonus program, giving them the opportunity to earn an annual bonus up to 200% of their base salary.'},\n",
       " {'role': 'Software Engineer',\n",
       "  'experience': 'Technology',\n",
       "  'skills': 'Software Development, Engineering',\n",
       "  'description': 'Walmart Global Tech is a team of 15,000+ software engineers, data scientists and service professionals who deliver innovations that improve how our customers shop and empower our 2.2 million associates.'},\n",
       " {'role': 'Data Scientist',\n",
       "  'experience': 'Technology',\n",
       "  'skills': 'Data Science, Analytics',\n",
       "  'description': 'Walmart Global Tech is a team of 15,000+ software engineers, data scientists and service professionals who deliver innovations that improve how our customers shop and empower our 2.2 million associates.'},\n",
       " {'role': 'UX Designer',\n",
       "  'experience': 'Technology',\n",
       "  'skills': 'UX Design, User Experience',\n",
       "  'description': 'Walmart Global Tech is a team of 15,000+ software engineers, data scientists and service professionals who deliver innovations that improve how our customers shop and empower our 2.2 million associates.'},\n",
       " {'role': 'Cybersecurity Specialist',\n",
       "  'experience': 'Technology',\n",
       "  'skills': 'Cybersecurity, Information Security',\n",
       "  'description': 'Walmart Global Tech is a team of 15,000+ software engineers, data scientists and service professionals who deliver innovations that improve how our customers shop and empower our 2.2 million associates.'},\n",
       " {'role': 'Accountant',\n",
       "  'experience': 'Corporate',\n",
       "  'skills': 'Accounting, Finance',\n",
       "  'description': 'Accounting and Finance roles available at Walmart.'},\n",
       " {'role': 'Administrative Assistant',\n",
       "  'experience': 'Corporate',\n",
       "  'skills': 'Administrative Support, Office Administration',\n",
       "  'description': 'Administrative and Support Services roles available at Walmart.'},\n",
       " {'role': 'Asset Protection Specialist',\n",
       "  'experience': 'Corporate',\n",
       "  'skills': 'Asset Protection, Loss Prevention',\n",
       "  'description': 'Asset Protection roles available at Walmart.'},\n",
       " {'role': 'Aviation and Travel Specialist',\n",
       "  'experience': 'Corporate',\n",
       "  'skills': 'Aviation, Travel Management',\n",
       "  'description': 'Aviation and Travel roles available at Walmart.'},\n",
       " {'role': 'Business Operations Specialist',\n",
       "  'experience': 'Corporate',\n",
       "  'skills': 'Business Operations, Management',\n",
       "  'description': 'Business Operations roles available at Walmart.'},\n",
       " {'role': 'Corporate Affairs and Communications Specialist',\n",
       "  'experience': 'Corporate',\n",
       "  'skills': 'Corporate Communications, Public Relations',\n",
       "  'description': 'Corporate Affairs and Communications roles available at Walmart.'},\n",
       " {'role': 'Customer Service Representative',\n",
       "  'experience': 'Corporate',\n",
       "  'skills': 'Customer Service, Call Center',\n",
       "  'description': 'Customer Service and Call Center roles available at Walmart.'},\n",
       " {'role': 'Data Analyst',\n",
       "  'experience': 'Corporate',\n",
       "  'skills': 'Data Analytics, Business Intelligence',\n",
       "  'description': 'Data Analytics and Business Intelligence roles available at Walmart.'},\n",
       " {'role': 'Engineer',\n",
       "  'experience': 'Corporate',\n",
       "  'skills': 'Engineering, Technical Support',\n",
       "  'description': 'Engineering roles available at Walmart.'},\n",
       " {'role': 'Ethics and Compliance Specialist',\n",
       "  'experience': 'Corporate',\n",
       "  'skills': 'Ethics, Compliance',\n",
       "  'description': 'Ethics and Compliance roles available at Walmart.'},\n",
       " {'role': 'Global Investigations and Security Specialist',\n",
       "  'experience': 'Corporate',\n",
       "  'skills': 'Investigations, Security',\n",
       "  'description': 'Global Investigations and Security roles available at Walmart.'},\n",
       " {'role': 'Human Resources Specialist',\n",
       "  'experience': 'Corporate',\n",
       "  'skills': 'Human Resources, HR Management',\n",
       "  'description': 'Human Resources roles available at Walmart.'},\n",
       " {'role': 'Installation, Maintenance and Utilities Specialist',\n",
       "  'experience': 'Corporate',\n",
       "  'skills': 'Installation, Maintenance, Utilities',\n",
       "  'description': 'Installation, Maintenance and Utilities roles available at Walmart.'},\n",
       " {'role': 'Legal Specialist',\n",
       "  'experience': 'Corporate',\n",
       "  'skills': 'Law, Legal Support',\n",
       "  'description': 'Legal roles available at Walmart.'},\n",
       " {'role': 'Marketing'}]"
      ]
     },
     "execution_count": 11,
     "metadata": {},
     "output_type": "execute_result"
    }
   ],
   "source": [
    "from langchain_core.output_parsers import JsonOutputParser\n",
    "\n",
    "json_parser = JsonOutputParser()\n",
    "json_res = json_parser.parse(res.content)\n",
    "json_res"
   ]
  },
  {
   "cell_type": "code",
   "execution_count": 12,
   "metadata": {
    "colab": {
     "base_uri": "https://localhost:8080/"
    },
    "id": "QDM_SbCANQj_",
    "outputId": "2c7da425-36e2-4850-cee8-cd59632f5bf9"
   },
   "outputs": [
    {
     "data": {
      "text/plain": [
       "list"
      ]
     },
     "execution_count": 12,
     "metadata": {},
     "output_type": "execute_result"
    }
   ],
   "source": [
    "type(json_res)"
   ]
  },
  {
   "cell_type": "code",
   "execution_count": 13,
   "metadata": {
    "colab": {
     "base_uri": "https://localhost:8080/",
     "height": 676
    },
    "id": "P6fSn4F6u_W0",
    "outputId": "a9da614a-d35e-4886-8294-de2088ff7030"
   },
   "outputs": [
    {
     "data": {
      "text/html": [
       "<div>\n",
       "<style scoped>\n",
       "    .dataframe tbody tr th:only-of-type {\n",
       "        vertical-align: middle;\n",
       "    }\n",
       "\n",
       "    .dataframe tbody tr th {\n",
       "        vertical-align: top;\n",
       "    }\n",
       "\n",
       "    .dataframe thead th {\n",
       "        text-align: right;\n",
       "    }\n",
       "</style>\n",
       "<table border=\"1\" class=\"dataframe\">\n",
       "  <thead>\n",
       "    <tr style=\"text-align: right;\">\n",
       "      <th></th>\n",
       "      <th>Techstack</th>\n",
       "      <th>Links</th>\n",
       "    </tr>\n",
       "  </thead>\n",
       "  <tbody>\n",
       "    <tr>\n",
       "      <th>0</th>\n",
       "      <td>React, Node.js, MongoDB</td>\n",
       "      <td>https://example.com/react-portfolio</td>\n",
       "    </tr>\n",
       "    <tr>\n",
       "      <th>1</th>\n",
       "      <td>Angular,.NET, SQL Server</td>\n",
       "      <td>https://example.com/angular-portfolio</td>\n",
       "    </tr>\n",
       "    <tr>\n",
       "      <th>2</th>\n",
       "      <td>Vue.js, Ruby on Rails, PostgreSQL</td>\n",
       "      <td>https://example.com/vue-portfolio</td>\n",
       "    </tr>\n",
       "    <tr>\n",
       "      <th>3</th>\n",
       "      <td>Python, Django, MySQL</td>\n",
       "      <td>https://example.com/python-portfolio</td>\n",
       "    </tr>\n",
       "    <tr>\n",
       "      <th>4</th>\n",
       "      <td>Java, Spring Boot, Oracle</td>\n",
       "      <td>https://example.com/java-portfolio</td>\n",
       "    </tr>\n",
       "    <tr>\n",
       "      <th>5</th>\n",
       "      <td>Flutter, Firebase, GraphQL</td>\n",
       "      <td>https://example.com/flutter-portfolio</td>\n",
       "    </tr>\n",
       "    <tr>\n",
       "      <th>6</th>\n",
       "      <td>WordPress, PHP, MySQL</td>\n",
       "      <td>https://example.com/wordpress-portfolio</td>\n",
       "    </tr>\n",
       "    <tr>\n",
       "      <th>7</th>\n",
       "      <td>Magento, PHP, MySQL</td>\n",
       "      <td>https://example.com/magento-portfolio</td>\n",
       "    </tr>\n",
       "    <tr>\n",
       "      <th>8</th>\n",
       "      <td>React Native, Node.js, MongoDB</td>\n",
       "      <td>https://example.com/react-native-portfolio</td>\n",
       "    </tr>\n",
       "    <tr>\n",
       "      <th>9</th>\n",
       "      <td>iOS, Swift, Core Data</td>\n",
       "      <td>https://example.com/ios-portfolio</td>\n",
       "    </tr>\n",
       "    <tr>\n",
       "      <th>10</th>\n",
       "      <td>Android, Java, Room Persistence</td>\n",
       "      <td>https://example.com/android-portfolio</td>\n",
       "    </tr>\n",
       "    <tr>\n",
       "      <th>11</th>\n",
       "      <td>Kotlin, Android, Firebase</td>\n",
       "      <td>https://example.com/kotlin-android-portfolio</td>\n",
       "    </tr>\n",
       "    <tr>\n",
       "      <th>12</th>\n",
       "      <td>Android TV, Kotlin, Android NDK</td>\n",
       "      <td>https://example.com/android-tv-portfolio</td>\n",
       "    </tr>\n",
       "    <tr>\n",
       "      <th>13</th>\n",
       "      <td>iOS, Swift, ARKit</td>\n",
       "      <td>https://example.com/ios-ar-portfolio</td>\n",
       "    </tr>\n",
       "    <tr>\n",
       "      <th>14</th>\n",
       "      <td>Cross-platform, Xamarin, Azure</td>\n",
       "      <td>https://example.com/xamarin-portfolio</td>\n",
       "    </tr>\n",
       "    <tr>\n",
       "      <th>15</th>\n",
       "      <td>Backend, Kotlin, Spring Boot</td>\n",
       "      <td>https://example.com/kotlin-backend-portfolio</td>\n",
       "    </tr>\n",
       "    <tr>\n",
       "      <th>16</th>\n",
       "      <td>Frontend, TypeScript, Angular</td>\n",
       "      <td>https://example.com/typescript-frontend-portfolio</td>\n",
       "    </tr>\n",
       "    <tr>\n",
       "      <th>17</th>\n",
       "      <td>Full-stack, JavaScript, Express.js</td>\n",
       "      <td>https://example.com/full-stack-js-portfolio</td>\n",
       "    </tr>\n",
       "    <tr>\n",
       "      <th>18</th>\n",
       "      <td>Machine Learning, Python, TensorFlow</td>\n",
       "      <td>https://example.com/ml-python-portfolio</td>\n",
       "    </tr>\n",
       "    <tr>\n",
       "      <th>19</th>\n",
       "      <td>DevOps, Jenkins, Docker</td>\n",
       "      <td>https://example.com/devops-portfolio</td>\n",
       "    </tr>\n",
       "  </tbody>\n",
       "</table>\n",
       "</div>"
      ],
      "text/plain": [
       "                               Techstack  \\\n",
       "0                React, Node.js, MongoDB   \n",
       "1               Angular,.NET, SQL Server   \n",
       "2      Vue.js, Ruby on Rails, PostgreSQL   \n",
       "3                  Python, Django, MySQL   \n",
       "4              Java, Spring Boot, Oracle   \n",
       "5             Flutter, Firebase, GraphQL   \n",
       "6                  WordPress, PHP, MySQL   \n",
       "7                    Magento, PHP, MySQL   \n",
       "8         React Native, Node.js, MongoDB   \n",
       "9                  iOS, Swift, Core Data   \n",
       "10       Android, Java, Room Persistence   \n",
       "11             Kotlin, Android, Firebase   \n",
       "12       Android TV, Kotlin, Android NDK   \n",
       "13                     iOS, Swift, ARKit   \n",
       "14        Cross-platform, Xamarin, Azure   \n",
       "15          Backend, Kotlin, Spring Boot   \n",
       "16         Frontend, TypeScript, Angular   \n",
       "17    Full-stack, JavaScript, Express.js   \n",
       "18  Machine Learning, Python, TensorFlow   \n",
       "19               DevOps, Jenkins, Docker   \n",
       "\n",
       "                                                Links  \n",
       "0                 https://example.com/react-portfolio  \n",
       "1               https://example.com/angular-portfolio  \n",
       "2                   https://example.com/vue-portfolio  \n",
       "3                https://example.com/python-portfolio  \n",
       "4                  https://example.com/java-portfolio  \n",
       "5               https://example.com/flutter-portfolio  \n",
       "6             https://example.com/wordpress-portfolio  \n",
       "7               https://example.com/magento-portfolio  \n",
       "8          https://example.com/react-native-portfolio  \n",
       "9                   https://example.com/ios-portfolio  \n",
       "10              https://example.com/android-portfolio  \n",
       "11       https://example.com/kotlin-android-portfolio  \n",
       "12           https://example.com/android-tv-portfolio  \n",
       "13               https://example.com/ios-ar-portfolio  \n",
       "14              https://example.com/xamarin-portfolio  \n",
       "15       https://example.com/kotlin-backend-portfolio  \n",
       "16  https://example.com/typescript-frontend-portfolio  \n",
       "17        https://example.com/full-stack-js-portfolio  \n",
       "18            https://example.com/ml-python-portfolio  \n",
       "19               https://example.com/devops-portfolio  "
      ]
     },
     "execution_count": 13,
     "metadata": {},
     "output_type": "execute_result"
    }
   ],
   "source": [
    "import pandas as pd\n",
    "\n",
    "df = pd.read_csv(\"my_portfolio (1).csv\")\n",
    "df\n"
   ]
  },
  {
   "cell_type": "code",
   "execution_count": 16,
   "metadata": {},
   "outputs": [
    {
     "name": "stdout",
     "output_type": "stream",
     "text": [
      "Collecting chromadb\n",
      "  Downloading chromadb-0.5.18-py3-none-any.whl.metadata (6.8 kB)\n",
      "Collecting build>=1.0.3 (from chromadb)\n",
      "  Downloading build-1.2.2.post1-py3-none-any.whl.metadata (6.5 kB)\n",
      "Requirement already satisfied: pydantic>=1.9 in c:\\users\\shreyash verma\\.conda\\envs\\ienv\\lib\\site-packages (from chromadb) (2.8.2)\n",
      "Collecting chroma-hnswlib==0.7.6 (from chromadb)\n",
      "  Downloading chroma_hnswlib-0.7.6-cp38-cp38-win_amd64.whl.metadata (262 bytes)\n",
      "Requirement already satisfied: fastapi>=0.95.2 in c:\\users\\shreyash verma\\.conda\\envs\\ienv\\lib\\site-packages (from chromadb) (0.112.0)\n",
      "Requirement already satisfied: uvicorn>=0.18.3 in c:\\users\\shreyash verma\\.conda\\envs\\ienv\\lib\\site-packages (from uvicorn[standard]>=0.18.3->chromadb) (0.30.6)\n",
      "Requirement already satisfied: numpy>=1.22.5 in c:\\users\\shreyash verma\\.conda\\envs\\ienv\\lib\\site-packages (from chromadb) (1.24.3)\n",
      "Collecting posthog>=2.4.0 (from chromadb)\n",
      "  Downloading posthog-3.7.0-py2.py3-none-any.whl.metadata (2.0 kB)\n",
      "Requirement already satisfied: typing-extensions>=4.5.0 in c:\\users\\shreyash verma\\.conda\\envs\\ienv\\lib\\site-packages (from chromadb) (4.12.2)\n",
      "Collecting onnxruntime>=1.14.1 (from chromadb)\n",
      "  Downloading onnxruntime-1.19.2-cp38-cp38-win_amd64.whl.metadata (4.7 kB)\n",
      "Collecting opentelemetry-api>=1.2.0 (from chromadb)\n",
      "  Downloading opentelemetry_api-1.28.1-py3-none-any.whl.metadata (1.4 kB)\n",
      "Collecting opentelemetry-exporter-otlp-proto-grpc>=1.2.0 (from chromadb)\n",
      "  Downloading opentelemetry_exporter_otlp_proto_grpc-1.28.1-py3-none-any.whl.metadata (2.3 kB)\n",
      "Collecting opentelemetry-instrumentation-fastapi>=0.41b0 (from chromadb)\n",
      "  Downloading opentelemetry_instrumentation_fastapi-0.49b1-py3-none-any.whl.metadata (2.1 kB)\n",
      "Collecting opentelemetry-sdk>=1.2.0 (from chromadb)\n",
      "  Downloading opentelemetry_sdk-1.28.1-py3-none-any.whl.metadata (1.5 kB)\n",
      "Requirement already satisfied: tokenizers>=0.13.2 in c:\\users\\shreyash verma\\.conda\\envs\\ienv\\lib\\site-packages (from chromadb) (0.19.1)\n",
      "Collecting pypika>=0.48.9 (from chromadb)\n",
      "  Downloading PyPika-0.48.9.tar.gz (67 kB)\n",
      "  Installing build dependencies: started\n",
      "  Installing build dependencies: finished with status 'done'\n",
      "  Getting requirements to build wheel: started\n",
      "  Getting requirements to build wheel: finished with status 'done'\n",
      "  Preparing metadata (pyproject.toml): started\n",
      "  Preparing metadata (pyproject.toml): finished with status 'done'\n",
      "Requirement already satisfied: tqdm>=4.65.0 in c:\\users\\shreyash verma\\.conda\\envs\\ienv\\lib\\site-packages (from chromadb) (4.66.5)\n",
      "Collecting overrides>=7.3.1 (from chromadb)\n",
      "  Downloading overrides-7.7.0-py3-none-any.whl.metadata (5.8 kB)\n",
      "Requirement already satisfied: importlib-resources in c:\\users\\shreyash verma\\.conda\\envs\\ienv\\lib\\site-packages (from chromadb) (6.4.0)\n",
      "Requirement already satisfied: grpcio>=1.58.0 in c:\\users\\shreyash verma\\.conda\\envs\\ienv\\lib\\site-packages (from chromadb) (1.65.4)\n",
      "Collecting bcrypt>=4.0.1 (from chromadb)\n",
      "  Downloading bcrypt-4.2.0-cp37-abi3-win_amd64.whl.metadata (9.9 kB)\n",
      "Collecting typer>=0.9.0 (from chromadb)\n",
      "  Downloading typer-0.13.0-py3-none-any.whl.metadata (15 kB)\n",
      "Collecting kubernetes>=28.1.0 (from chromadb)\n",
      "  Downloading kubernetes-31.0.0-py2.py3-none-any.whl.metadata (1.5 kB)\n",
      "Requirement already satisfied: tenacity>=8.2.3 in c:\\users\\shreyash verma\\.conda\\envs\\ienv\\lib\\site-packages (from chromadb) (8.5.0)\n",
      "Requirement already satisfied: PyYAML>=6.0.0 in c:\\users\\shreyash verma\\.conda\\envs\\ienv\\lib\\site-packages (from chromadb) (6.0.1)\n",
      "Collecting mmh3>=4.0.1 (from chromadb)\n",
      "  Downloading mmh3-5.0.1-cp38-cp38-win_amd64.whl.metadata (14 kB)\n",
      "Requirement already satisfied: orjson>=3.9.12 in c:\\users\\shreyash verma\\.conda\\envs\\ienv\\lib\\site-packages (from chromadb) (3.10.11)\n",
      "Requirement already satisfied: httpx>=0.27.0 in c:\\users\\shreyash verma\\.conda\\envs\\ienv\\lib\\site-packages (from chromadb) (0.27.2)\n",
      "Collecting rich>=10.11.0 (from chromadb)\n",
      "  Downloading rich-13.9.4-py3-none-any.whl.metadata (18 kB)\n",
      "Collecting graphlib-backport>=1.0.3 (from chromadb)\n",
      "  Downloading graphlib_backport-1.1.0-py3-none-any.whl.metadata (4.4 kB)\n",
      "Requirement already satisfied: packaging>=19.1 in c:\\users\\shreyash verma\\.conda\\envs\\ienv\\lib\\site-packages (from build>=1.0.3->chromadb) (24.1)\n",
      "Collecting pyproject_hooks (from build>=1.0.3->chromadb)\n",
      "  Downloading pyproject_hooks-1.2.0-py3-none-any.whl.metadata (1.3 kB)\n",
      "Requirement already satisfied: colorama in c:\\users\\shreyash verma\\.conda\\envs\\ienv\\lib\\site-packages (from build>=1.0.3->chromadb) (0.4.6)\n",
      "Requirement already satisfied: importlib-metadata>=4.6 in c:\\users\\shreyash verma\\.conda\\envs\\ienv\\lib\\site-packages (from build>=1.0.3->chromadb) (8.2.0)\n",
      "Requirement already satisfied: tomli>=1.1.0 in c:\\users\\shreyash verma\\.conda\\envs\\ienv\\lib\\site-packages (from build>=1.0.3->chromadb) (2.0.1)\n",
      "Requirement already satisfied: starlette<0.38.0,>=0.37.2 in c:\\users\\shreyash verma\\.conda\\envs\\ienv\\lib\\site-packages (from fastapi>=0.95.2->chromadb) (0.37.2)\n",
      "Requirement already satisfied: anyio in c:\\users\\shreyash verma\\.conda\\envs\\ienv\\lib\\site-packages (from httpx>=0.27.0->chromadb) (4.4.0)\n",
      "Requirement already satisfied: certifi in c:\\users\\shreyash verma\\.conda\\envs\\ienv\\lib\\site-packages (from httpx>=0.27.0->chromadb) (2024.8.30)\n",
      "Requirement already satisfied: httpcore==1.* in c:\\users\\shreyash verma\\.conda\\envs\\ienv\\lib\\site-packages (from httpx>=0.27.0->chromadb) (1.0.5)\n",
      "Requirement already satisfied: idna in c:\\users\\shreyash verma\\.conda\\envs\\ienv\\lib\\site-packages (from httpx>=0.27.0->chromadb) (3.7)\n",
      "Requirement already satisfied: sniffio in c:\\users\\shreyash verma\\.conda\\envs\\ienv\\lib\\site-packages (from httpx>=0.27.0->chromadb) (1.3.1)\n",
      "Requirement already satisfied: h11<0.15,>=0.13 in c:\\users\\shreyash verma\\.conda\\envs\\ienv\\lib\\site-packages (from httpcore==1.*->httpx>=0.27.0->chromadb) (0.14.0)\n",
      "Requirement already satisfied: six>=1.9.0 in c:\\users\\shreyash verma\\.conda\\envs\\ienv\\lib\\site-packages (from kubernetes>=28.1.0->chromadb) (1.16.0)\n",
      "Requirement already satisfied: python-dateutil>=2.5.3 in c:\\users\\shreyash verma\\.conda\\envs\\ienv\\lib\\site-packages (from kubernetes>=28.1.0->chromadb) (2.9.0)\n",
      "Requirement already satisfied: google-auth>=1.0.1 in c:\\users\\shreyash verma\\.conda\\envs\\ienv\\lib\\site-packages (from kubernetes>=28.1.0->chromadb) (2.33.0)\n",
      "Collecting websocket-client!=0.40.0,!=0.41.*,!=0.42.*,>=0.32.0 (from kubernetes>=28.1.0->chromadb)\n",
      "  Downloading websocket_client-1.8.0-py3-none-any.whl.metadata (8.0 kB)\n",
      "Requirement already satisfied: requests in c:\\users\\shreyash verma\\.conda\\envs\\ienv\\lib\\site-packages (from kubernetes>=28.1.0->chromadb) (2.32.3)\n",
      "Requirement already satisfied: requests-oauthlib in c:\\users\\shreyash verma\\.conda\\envs\\ienv\\lib\\site-packages (from kubernetes>=28.1.0->chromadb) (2.0.0)\n",
      "Requirement already satisfied: oauthlib>=3.2.2 in c:\\users\\shreyash verma\\.conda\\envs\\ienv\\lib\\site-packages (from kubernetes>=28.1.0->chromadb) (3.2.2)\n",
      "Requirement already satisfied: urllib3>=1.24.2 in c:\\users\\shreyash verma\\.conda\\envs\\ienv\\lib\\site-packages (from kubernetes>=28.1.0->chromadb) (2.2.2)\n",
      "Collecting durationpy>=0.7 (from kubernetes>=28.1.0->chromadb)\n",
      "  Downloading durationpy-0.9-py3-none-any.whl.metadata (338 bytes)\n",
      "Collecting coloredlogs (from onnxruntime>=1.14.1->chromadb)\n",
      "  Downloading coloredlogs-15.0.1-py2.py3-none-any.whl.metadata (12 kB)\n",
      "Requirement already satisfied: flatbuffers in c:\\users\\shreyash verma\\.conda\\envs\\ienv\\lib\\site-packages (from onnxruntime>=1.14.1->chromadb) (24.3.25)\n",
      "Requirement already satisfied: protobuf in c:\\users\\shreyash verma\\.conda\\envs\\ienv\\lib\\site-packages (from onnxruntime>=1.14.1->chromadb) (4.25.4)\n",
      "Requirement already satisfied: sympy in c:\\users\\shreyash verma\\.conda\\envs\\ienv\\lib\\site-packages (from onnxruntime>=1.14.1->chromadb) (1.12)\n",
      "Collecting deprecated>=1.2.6 (from opentelemetry-api>=1.2.0->chromadb)\n",
      "  Downloading Deprecated-1.2.14-py2.py3-none-any.whl.metadata (5.4 kB)\n",
      "Collecting googleapis-common-protos~=1.52 (from opentelemetry-exporter-otlp-proto-grpc>=1.2.0->chromadb)\n",
      "  Downloading googleapis_common_protos-1.66.0-py2.py3-none-any.whl.metadata (1.5 kB)\n",
      "Collecting opentelemetry-exporter-otlp-proto-common==1.28.1 (from opentelemetry-exporter-otlp-proto-grpc>=1.2.0->chromadb)\n",
      "  Downloading opentelemetry_exporter_otlp_proto_common-1.28.1-py3-none-any.whl.metadata (1.8 kB)\n",
      "Collecting opentelemetry-proto==1.28.1 (from opentelemetry-exporter-otlp-proto-grpc>=1.2.0->chromadb)\n",
      "  Downloading opentelemetry_proto-1.28.1-py3-none-any.whl.metadata (2.3 kB)\n",
      "Collecting protobuf (from onnxruntime>=1.14.1->chromadb)\n",
      "  Downloading protobuf-5.28.3-cp38-cp38-win_amd64.whl.metadata (592 bytes)\n",
      "Collecting opentelemetry-instrumentation-asgi==0.49b1 (from opentelemetry-instrumentation-fastapi>=0.41b0->chromadb)\n",
      "  Downloading opentelemetry_instrumentation_asgi-0.49b1-py3-none-any.whl.metadata (2.0 kB)\n",
      "Collecting opentelemetry-instrumentation==0.49b1 (from opentelemetry-instrumentation-fastapi>=0.41b0->chromadb)\n",
      "  Downloading opentelemetry_instrumentation-0.49b1-py3-none-any.whl.metadata (6.2 kB)\n",
      "Collecting opentelemetry-semantic-conventions==0.49b1 (from opentelemetry-instrumentation-fastapi>=0.41b0->chromadb)\n",
      "  Downloading opentelemetry_semantic_conventions-0.49b1-py3-none-any.whl.metadata (2.4 kB)\n",
      "Collecting opentelemetry-util-http==0.49b1 (from opentelemetry-instrumentation-fastapi>=0.41b0->chromadb)\n",
      "  Downloading opentelemetry_util_http-0.49b1-py3-none-any.whl.metadata (2.5 kB)\n",
      "Requirement already satisfied: wrapt<2.0.0,>=1.0.0 in c:\\users\\shreyash verma\\.conda\\envs\\ienv\\lib\\site-packages (from opentelemetry-instrumentation==0.49b1->opentelemetry-instrumentation-fastapi>=0.41b0->chromadb) (1.16.0)\n",
      "Collecting asgiref~=3.0 (from opentelemetry-instrumentation-asgi==0.49b1->opentelemetry-instrumentation-fastapi>=0.41b0->chromadb)\n",
      "  Downloading asgiref-3.8.1-py3-none-any.whl.metadata (9.3 kB)\n",
      "Collecting monotonic>=1.5 (from posthog>=2.4.0->chromadb)\n",
      "  Downloading monotonic-1.6-py2.py3-none-any.whl.metadata (1.5 kB)\n",
      "Collecting backoff>=1.10.0 (from posthog>=2.4.0->chromadb)\n",
      "  Downloading backoff-2.2.1-py3-none-any.whl.metadata (14 kB)\n",
      "Requirement already satisfied: annotated-types>=0.4.0 in c:\\users\\shreyash verma\\.conda\\envs\\ienv\\lib\\site-packages (from pydantic>=1.9->chromadb) (0.7.0)\n",
      "Requirement already satisfied: pydantic-core==2.20.1 in c:\\users\\shreyash verma\\.conda\\envs\\ienv\\lib\\site-packages (from pydantic>=1.9->chromadb) (2.20.1)\n",
      "Collecting markdown-it-py>=2.2.0 (from rich>=10.11.0->chromadb)\n",
      "  Downloading markdown_it_py-3.0.0-py3-none-any.whl.metadata (6.9 kB)\n",
      "Requirement already satisfied: pygments<3.0.0,>=2.13.0 in c:\\users\\shreyash verma\\.conda\\envs\\ienv\\lib\\site-packages (from rich>=10.11.0->chromadb) (2.18.0)\n",
      "Requirement already satisfied: huggingface-hub<1.0,>=0.16.4 in c:\\users\\shreyash verma\\.conda\\envs\\ienv\\lib\\site-packages (from tokenizers>=0.13.2->chromadb) (0.24.7)\n",
      "Requirement already satisfied: click>=8.0.0 in c:\\users\\shreyash verma\\.conda\\envs\\ienv\\lib\\site-packages (from typer>=0.9.0->chromadb) (8.1.7)\n",
      "Collecting shellingham>=1.3.0 (from typer>=0.9.0->chromadb)\n",
      "  Downloading shellingham-1.5.4-py2.py3-none-any.whl.metadata (3.5 kB)\n",
      "Collecting httptools>=0.5.0 (from uvicorn[standard]>=0.18.3->chromadb)\n",
      "  Downloading httptools-0.6.4-cp38-cp38-win_amd64.whl.metadata (3.7 kB)\n",
      "Collecting python-dotenv>=0.13 (from uvicorn[standard]>=0.18.3->chromadb)\n",
      "  Downloading python_dotenv-1.0.1-py3-none-any.whl.metadata (23 kB)\n",
      "Collecting watchfiles>=0.13 (from uvicorn[standard]>=0.18.3->chromadb)\n",
      "  Downloading watchfiles-0.24.0-cp38-none-win_amd64.whl.metadata (5.0 kB)\n",
      "Collecting websockets>=10.4 (from uvicorn[standard]>=0.18.3->chromadb)\n",
      "  Downloading websockets-13.1-cp38-cp38-win_amd64.whl.metadata (7.0 kB)\n",
      "Requirement already satisfied: zipp>=3.1.0 in c:\\users\\shreyash verma\\.conda\\envs\\ienv\\lib\\site-packages (from importlib-resources->chromadb) (3.19.2)\n",
      "Requirement already satisfied: cachetools<6.0,>=2.0.0 in c:\\users\\shreyash verma\\.conda\\envs\\ienv\\lib\\site-packages (from google-auth>=1.0.1->kubernetes>=28.1.0->chromadb) (5.4.0)\n",
      "Requirement already satisfied: pyasn1-modules>=0.2.1 in c:\\users\\shreyash verma\\.conda\\envs\\ienv\\lib\\site-packages (from google-auth>=1.0.1->kubernetes>=28.1.0->chromadb) (0.4.0)\n",
      "Requirement already satisfied: rsa<5,>=3.1.4 in c:\\users\\shreyash verma\\.conda\\envs\\ienv\\lib\\site-packages (from google-auth>=1.0.1->kubernetes>=28.1.0->chromadb) (4.9)\n",
      "Requirement already satisfied: filelock in c:\\users\\shreyash verma\\.conda\\envs\\ienv\\lib\\site-packages (from huggingface-hub<1.0,>=0.16.4->tokenizers>=0.13.2->chromadb) (3.13.1)\n",
      "Requirement already satisfied: fsspec>=2023.5.0 in c:\\users\\shreyash verma\\.conda\\envs\\ienv\\lib\\site-packages (from huggingface-hub<1.0,>=0.16.4->tokenizers>=0.13.2->chromadb) (2024.6.1)\n",
      "Collecting mdurl~=0.1 (from markdown-it-py>=2.2.0->rich>=10.11.0->chromadb)\n",
      "  Downloading mdurl-0.1.2-py3-none-any.whl.metadata (1.6 kB)\n",
      "Requirement already satisfied: charset-normalizer<4,>=2 in c:\\users\\shreyash verma\\.conda\\envs\\ienv\\lib\\site-packages (from requests->kubernetes>=28.1.0->chromadb) (3.3.2)\n",
      "Requirement already satisfied: exceptiongroup>=1.0.2 in c:\\users\\shreyash verma\\.conda\\envs\\ienv\\lib\\site-packages (from anyio->httpx>=0.27.0->chromadb) (1.2.2)\n",
      "Collecting humanfriendly>=9.1 (from coloredlogs->onnxruntime>=1.14.1->chromadb)\n",
      "  Downloading humanfriendly-10.0-py2.py3-none-any.whl.metadata (9.2 kB)\n",
      "Requirement already satisfied: mpmath>=0.19 in c:\\users\\shreyash verma\\.conda\\envs\\ienv\\lib\\site-packages (from sympy->onnxruntime>=1.14.1->chromadb) (1.3.0)\n",
      "Collecting pyreadline3 (from humanfriendly>=9.1->coloredlogs->onnxruntime>=1.14.1->chromadb)\n",
      "  Downloading pyreadline3-3.5.4-py3-none-any.whl.metadata (4.7 kB)\n",
      "Requirement already satisfied: pyasn1<0.7.0,>=0.4.6 in c:\\users\\shreyash verma\\.conda\\envs\\ienv\\lib\\site-packages (from pyasn1-modules>=0.2.1->google-auth>=1.0.1->kubernetes>=28.1.0->chromadb) (0.6.0)\n",
      "Downloading chromadb-0.5.18-py3-none-any.whl (615 kB)\n",
      "   ---------------------------------------- 0.0/615.5 kB ? eta -:--:--\n",
      "   ---------------------------------------- 0.0/615.5 kB ? eta -:--:--\n",
      "   ----------------- ---------------------- 262.1/615.5 kB ? eta -:--:--\n",
      "   ---------------------------------- ----- 524.3/615.5 kB 1.1 MB/s eta 0:00:01\n",
      "   ---------------------------------------- 615.5/615.5 kB 1.0 MB/s eta 0:00:00\n",
      "Downloading chroma_hnswlib-0.7.6-cp38-cp38-win_amd64.whl (150 kB)\n",
      "Downloading bcrypt-4.2.0-cp37-abi3-win_amd64.whl (151 kB)\n",
      "Downloading build-1.2.2.post1-py3-none-any.whl (22 kB)\n",
      "Downloading graphlib_backport-1.1.0-py3-none-any.whl (7.1 kB)\n",
      "Downloading kubernetes-31.0.0-py2.py3-none-any.whl (1.9 MB)\n",
      "   ---------------------------------------- 0.0/1.9 MB ? eta -:--:--\n",
      "   ---------------------------------------- 0.0/1.9 MB ? eta -:--:--\n",
      "   ----- ---------------------------------- 0.3/1.9 MB ? eta -:--:--\n",
      "   ----------- ---------------------------- 0.5/1.9 MB 932.9 kB/s eta 0:00:02\n",
      "   ----------- ---------------------------- 0.5/1.9 MB 932.9 kB/s eta 0:00:02\n",
      "   ---------------- ----------------------- 0.8/1.9 MB 932.9 kB/s eta 0:00:02\n",
      "   ---------------------- ----------------- 1.0/1.9 MB 931.8 kB/s eta 0:00:01\n",
      "   ---------------------------- ----------- 1.3/1.9 MB 972.7 kB/s eta 0:00:01\n",
      "   --------------------------------- ------ 1.6/1.9 MB 964.5 kB/s eta 0:00:01\n",
      "   --------------------------------- ------ 1.6/1.9 MB 964.5 kB/s eta 0:00:01\n",
      "   ---------------------------------------- 1.9/1.9 MB 971.9 kB/s eta 0:00:00\n",
      "Downloading mmh3-5.0.1-cp38-cp38-win_amd64.whl (39 kB)\n",
      "Downloading onnxruntime-1.19.2-cp38-cp38-win_amd64.whl (11.1 MB)\n",
      "   ---------------------------------------- 0.0/11.1 MB ? eta -:--:--\n",
      "   ---------------------------------------- 0.0/11.1 MB ? eta -:--:--\n",
      "    --------------------------------------- 0.3/11.1 MB ? eta -:--:--\n",
      "   - -------------------------------------- 0.5/11.1 MB 989.2 kB/s eta 0:00:11\n",
      "   -- ------------------------------------- 0.8/11.1 MB 1.1 MB/s eta 0:00:10\n",
      "   --- ------------------------------------ 1.0/11.1 MB 1.0 MB/s eta 0:00:10\n",
      "   ---- ----------------------------------- 1.3/11.1 MB 1.0 MB/s eta 0:00:10\n",
      "   ----- ---------------------------------- 1.6/11.1 MB 1.1 MB/s eta 0:00:09\n",
      "   ----- ---------------------------------- 1.6/11.1 MB 1.1 MB/s eta 0:00:09\n",
      "   ------ --------------------------------- 1.8/11.1 MB 1.0 MB/s eta 0:00:09\n",
      "   ------ --------------------------------- 1.8/11.1 MB 1.0 MB/s eta 0:00:09\n",
      "   ------ --------------------------------- 1.8/11.1 MB 1.0 MB/s eta 0:00:09\n",
      "   ------- -------------------------------- 2.1/11.1 MB 857.5 kB/s eta 0:00:11\n",
      "   ------- -------------------------------- 2.1/11.1 MB 857.5 kB/s eta 0:00:11\n",
      "   ------- -------------------------------- 2.1/11.1 MB 857.5 kB/s eta 0:00:11\n",
      "   ------- -------------------------------- 2.1/11.1 MB 857.5 kB/s eta 0:00:11\n",
      "   --------- ------------------------------ 2.6/11.1 MB 786.4 kB/s eta 0:00:11\n",
      "   ---------- ----------------------------- 2.9/11.1 MB 818.4 kB/s eta 0:00:11\n",
      "   ---------- ----------------------------- 2.9/11.1 MB 818.4 kB/s eta 0:00:11\n",
      "   ---------- ----------------------------- 2.9/11.1 MB 818.4 kB/s eta 0:00:11\n",
      "   ----------- ---------------------------- 3.1/11.1 MB 741.3 kB/s eta 0:00:11\n",
      "   ----------- ---------------------------- 3.1/11.1 MB 741.3 kB/s eta 0:00:11\n",
      "   ----------- ---------------------------- 3.1/11.1 MB 741.3 kB/s eta 0:00:11\n",
      "   ------------ --------------------------- 3.4/11.1 MB 719.0 kB/s eta 0:00:11\n",
      "   ------------ --------------------------- 3.4/11.1 MB 719.0 kB/s eta 0:00:11\n",
      "   ------------- -------------------------- 3.7/11.1 MB 683.8 kB/s eta 0:00:11\n",
      "   ------------- -------------------------- 3.7/11.1 MB 683.8 kB/s eta 0:00:11\n",
      "   -------------- ------------------------- 3.9/11.1 MB 675.0 kB/s eta 0:00:11\n",
      "   -------------- ------------------------- 3.9/11.1 MB 675.0 kB/s eta 0:00:11\n",
      "   -------------- ------------------------- 3.9/11.1 MB 675.0 kB/s eta 0:00:11\n",
      "   --------------- ------------------------ 4.2/11.1 MB 669.3 kB/s eta 0:00:11\n",
      "   --------------- ------------------------ 4.2/11.1 MB 669.3 kB/s eta 0:00:11\n",
      "   --------------- ------------------------ 4.2/11.1 MB 669.3 kB/s eta 0:00:11\n",
      "   --------------- ------------------------ 4.2/11.1 MB 669.3 kB/s eta 0:00:11\n",
      "   --------------- ------------------------ 4.2/11.1 MB 669.3 kB/s eta 0:00:11\n",
      "   ----------------- ---------------------- 4.7/11.1 MB 633.8 kB/s eta 0:00:11\n",
      "   ----------------- ---------------------- 5.0/11.1 MB 660.9 kB/s eta 0:00:10\n",
      "   ------------------ --------------------- 5.2/11.1 MB 671.1 kB/s eta 0:00:09\n",
      "   ------------------- -------------------- 5.5/11.1 MB 683.4 kB/s eta 0:00:09\n",
      "   ------------------- -------------------- 5.5/11.1 MB 683.4 kB/s eta 0:00:09\n",
      "   -------------------- ------------------- 5.8/11.1 MB 688.1 kB/s eta 0:00:08\n",
      "   --------------------- ------------------ 6.0/11.1 MB 704.4 kB/s eta 0:00:08\n",
      "   ---------------------- ----------------- 6.3/11.1 MB 714.6 kB/s eta 0:00:07\n",
      "   ----------------------- ---------------- 6.6/11.1 MB 725.5 kB/s eta 0:00:07\n",
      "   ------------------------ --------------- 6.8/11.1 MB 733.3 kB/s eta 0:00:06\n",
      "   ------------------------- -------------- 7.1/11.1 MB 741.9 kB/s eta 0:00:06\n",
      "   -------------------------- ------------- 7.3/11.1 MB 752.5 kB/s eta 0:00:05\n",
      "   --------------------------- ------------ 7.6/11.1 MB 757.7 kB/s eta 0:00:05\n",
      "   --------------------------- ------------ 7.6/11.1 MB 757.7 kB/s eta 0:00:05\n",
      "   ---------------------------- ----------- 7.9/11.1 MB 763.8 kB/s eta 0:00:05\n",
      "   ----------------------------- ---------- 8.1/11.1 MB 769.6 kB/s eta 0:00:04\n",
      "   ------------------------------ --------- 8.4/11.1 MB 780.9 kB/s eta 0:00:04\n",
      "   ------------------------------- -------- 8.7/11.1 MB 789.5 kB/s eta 0:00:04\n",
      "   -------------------------------- ------- 8.9/11.1 MB 795.5 kB/s eta 0:00:03\n",
      "   --------------------------------- ------ 9.2/11.1 MB 804.6 kB/s eta 0:00:03\n",
      "   ---------------------------------- ----- 9.4/11.1 MB 811.1 kB/s eta 0:00:03\n",
      "   ----------------------------------- ---- 9.7/11.1 MB 816.2 kB/s eta 0:00:02\n",
      "   ----------------------------------- ---- 9.7/11.1 MB 816.2 kB/s eta 0:00:02\n",
      "   ------------------------------------ --- 10.2/11.1 MB 833.4 kB/s eta 0:00:02\n",
      "   ------------------------------------- -- 10.5/11.1 MB 838.9 kB/s eta 0:00:01\n",
      "   ------------------------------------- -- 10.5/11.1 MB 838.9 kB/s eta 0:00:01\n",
      "   ---------------------------------------  11.0/11.1 MB 855.6 kB/s eta 0:00:01\n",
      "   ---------------------------------------- 11.1/11.1 MB 854.0 kB/s eta 0:00:00\n",
      "Downloading opentelemetry_api-1.28.1-py3-none-any.whl (64 kB)\n",
      "Downloading opentelemetry_exporter_otlp_proto_grpc-1.28.1-py3-none-any.whl (18 kB)\n",
      "Downloading opentelemetry_exporter_otlp_proto_common-1.28.1-py3-none-any.whl (18 kB)\n",
      "Downloading opentelemetry_proto-1.28.1-py3-none-any.whl (55 kB)\n",
      "Downloading opentelemetry_instrumentation_fastapi-0.49b1-py3-none-any.whl (12 kB)\n",
      "Downloading opentelemetry_instrumentation-0.49b1-py3-none-any.whl (30 kB)\n",
      "Downloading opentelemetry_instrumentation_asgi-0.49b1-py3-none-any.whl (16 kB)\n",
      "Downloading opentelemetry_semantic_conventions-0.49b1-py3-none-any.whl (159 kB)\n",
      "Downloading opentelemetry_util_http-0.49b1-py3-none-any.whl (6.9 kB)\n",
      "Downloading opentelemetry_sdk-1.28.1-py3-none-any.whl (118 kB)\n",
      "Downloading overrides-7.7.0-py3-none-any.whl (17 kB)\n",
      "Downloading posthog-3.7.0-py2.py3-none-any.whl (54 kB)\n",
      "Downloading rich-13.9.4-py3-none-any.whl (242 kB)\n",
      "Downloading typer-0.13.0-py3-none-any.whl (44 kB)\n",
      "Downloading backoff-2.2.1-py3-none-any.whl (15 kB)\n",
      "Downloading Deprecated-1.2.14-py2.py3-none-any.whl (9.6 kB)\n",
      "Downloading durationpy-0.9-py3-none-any.whl (3.5 kB)\n",
      "Downloading googleapis_common_protos-1.66.0-py2.py3-none-any.whl (221 kB)\n",
      "Downloading httptools-0.6.4-cp38-cp38-win_amd64.whl (89 kB)\n",
      "Downloading markdown_it_py-3.0.0-py3-none-any.whl (87 kB)\n",
      "Downloading monotonic-1.6-py2.py3-none-any.whl (8.2 kB)\n",
      "Downloading protobuf-5.28.3-cp38-cp38-win_amd64.whl (431 kB)\n",
      "Downloading python_dotenv-1.0.1-py3-none-any.whl (19 kB)\n",
      "Downloading shellingham-1.5.4-py2.py3-none-any.whl (9.8 kB)\n",
      "Downloading watchfiles-0.24.0-cp38-none-win_amd64.whl (277 kB)\n",
      "Downloading websocket_client-1.8.0-py3-none-any.whl (58 kB)\n",
      "Downloading websockets-13.1-cp38-cp38-win_amd64.whl (159 kB)\n",
      "Downloading coloredlogs-15.0.1-py2.py3-none-any.whl (46 kB)\n",
      "Downloading pyproject_hooks-1.2.0-py3-none-any.whl (10 kB)\n",
      "Downloading asgiref-3.8.1-py3-none-any.whl (23 kB)\n",
      "Downloading humanfriendly-10.0-py2.py3-none-any.whl (86 kB)\n",
      "Downloading mdurl-0.1.2-py3-none-any.whl (10.0 kB)\n",
      "Downloading pyreadline3-3.5.4-py3-none-any.whl (83 kB)\n",
      "Building wheels for collected packages: pypika\n",
      "  Building wheel for pypika (pyproject.toml): started\n",
      "  Building wheel for pypika (pyproject.toml): finished with status 'done'\n",
      "  Created wheel for pypika: filename=PyPika-0.48.9-py2.py3-none-any.whl size=53835 sha256=2ed0aef71f7b8679b2ac5b164539aef53ad038338ad0007d689bdc793187dc2d\n",
      "  Stored in directory: c:\\users\\shreyash verma\\appdata\\local\\pip\\cache\\wheels\\54\\4a\\f8\\2803c6041841502d0d21fb2a62d401d14716dfeb2261a3a70b\n",
      "Successfully built pypika\n",
      "Installing collected packages: pypika, monotonic, durationpy, websockets, websocket-client, shellingham, python-dotenv, pyreadline3, pyproject_hooks, protobuf, overrides, opentelemetry-util-http, mmh3, mdurl, httptools, graphlib-backport, deprecated, chroma-hnswlib, bcrypt, backoff, asgiref, watchfiles, posthog, opentelemetry-proto, opentelemetry-api, markdown-it-py, humanfriendly, googleapis-common-protos, build, rich, opentelemetry-semantic-conventions, opentelemetry-exporter-otlp-proto-common, kubernetes, coloredlogs, typer, opentelemetry-sdk, opentelemetry-instrumentation, onnxruntime, opentelemetry-instrumentation-asgi, opentelemetry-exporter-otlp-proto-grpc, opentelemetry-instrumentation-fastapi, chromadb\n",
      "  Attempting uninstall: protobuf\n",
      "    Found existing installation: protobuf 4.25.4\n",
      "    Uninstalling protobuf-4.25.4:\n",
      "      Successfully uninstalled protobuf-4.25.4\n",
      "Successfully installed asgiref-3.8.1 backoff-2.2.1 bcrypt-4.2.0 build-1.2.2.post1 chroma-hnswlib-0.7.6 chromadb-0.5.18 coloredlogs-15.0.1 deprecated-1.2.14 durationpy-0.9 googleapis-common-protos-1.66.0 graphlib-backport-1.1.0 httptools-0.6.4 humanfriendly-10.0 kubernetes-31.0.0 markdown-it-py-3.0.0 mdurl-0.1.2 mmh3-5.0.1 monotonic-1.6 onnxruntime-1.19.2 opentelemetry-api-1.28.1 opentelemetry-exporter-otlp-proto-common-1.28.1 opentelemetry-exporter-otlp-proto-grpc-1.28.1 opentelemetry-instrumentation-0.49b1 opentelemetry-instrumentation-asgi-0.49b1 opentelemetry-instrumentation-fastapi-0.49b1 opentelemetry-proto-1.28.1 opentelemetry-sdk-1.28.1 opentelemetry-semantic-conventions-0.49b1 opentelemetry-util-http-0.49b1 overrides-7.7.0 posthog-3.7.0 protobuf-5.28.3 pypika-0.48.9 pyproject_hooks-1.2.0 pyreadline3-3.5.4 python-dotenv-1.0.1 rich-13.9.4 shellingham-1.5.4 typer-0.13.0 watchfiles-0.24.0 websocket-client-1.8.0 websockets-13.1\n"
     ]
    },
    {
     "name": "stderr",
     "output_type": "stream",
     "text": [
      "ERROR: pip's dependency resolver does not currently take into account all the packages that are installed. This behaviour is the source of the following dependency conflicts.\n",
      "mysql-connector-python 8.0.33 requires protobuf<=3.20.3,>=3.11.0, but you have protobuf 5.28.3 which is incompatible.\n",
      "paddlepaddle 2.6.2 requires protobuf<=3.20.2,>=3.1.0; platform_system == \"Windows\", but you have protobuf 5.28.3 which is incompatible.\n",
      "tensorflow-intel 2.13.0 requires protobuf!=4.21.0,!=4.21.1,!=4.21.2,!=4.21.3,!=4.21.4,!=4.21.5,<5.0.0dev,>=3.20.3, but you have protobuf 5.28.3 which is incompatible.\n",
      "tensorflow-intel 2.13.0 requires typing-extensions<4.6.0,>=3.6.6, but you have typing-extensions 4.12.2 which is incompatible.\n"
     ]
    }
   ],
   "source": [
    "!python -m pip install chromadb "
   ]
  },
  {
   "cell_type": "code",
   "execution_count": 17,
   "metadata": {
    "colab": {
     "base_uri": "https://localhost:8080/"
    },
    "id": "EQM4IPxWvfAq",
    "outputId": "773faea6-1187-4dac-cdfe-276129622d7c"
   },
   "outputs": [
    {
     "name": "stderr",
     "output_type": "stream",
     "text": [
      "C:\\Users\\Shreyash Verma\\.cache\\chroma\\onnx_models\\all-MiniLM-L6-v2\\onnx.tar.gz: 100%|██████████| 79.3M/79.3M [03:00<00:00, 460kiB/s]   \n"
     ]
    }
   ],
   "source": [
    "\n",
    "import uuid\n",
    "import chromadb\n",
    "\n",
    "client = chromadb.PersistentClient('vectorstore')\n",
    "collection = client.get_or_create_collection(name=\"portfolio\")\n",
    "\n",
    "if not collection.count():\n",
    "    for _, row in df.iterrows():\n",
    "        collection.add(documents=row[\"Techstack\"],\n",
    "                       metadatas={\"links\": row[\"Links\"]},\n",
    "                       ids=[str(uuid.uuid4())])"
   ]
  },
  {
   "cell_type": "code",
   "execution_count": 18,
   "metadata": {
    "colab": {
     "base_uri": "https://localhost:8080/"
    },
    "id": "DeI_jyB_xbpR",
    "outputId": "286dc4e9-8eae-4cf8-cc14-1ab19622f1ac"
   },
   "outputs": [
    {
     "name": "stdout",
     "output_type": "stream",
     "text": [
      "{'links': 'https://example.com/ml-python-portfolio'}\n",
      "{'links': 'https://example.com/python-portfolio'}\n",
      "{'links': 'https://example.com/magento-portfolio'}\n",
      "{'links': 'https://example.com/wordpress-portfolio'}\n",
      "{'links': 'https://example.com/ios-ar-portfolio'}\n"
     ]
    }
   ],
   "source": [
    "query_text = \"Python\"  # Example query\n",
    "results = collection.query(query_texts=[query_text], n_results=5)\n",
    "\n",
    "for result_metadata in results['metadatas'][0]:\n",
    "    formatted_result = {}\n",
    "    for key, value in result_metadata.items():\n",
    "        if isinstance(value, list):\n",
    "            # Format the list\n",
    "            formatted_result[key] = [item for item in value]\n",
    "        else:\n",
    "            # Directly assign non-list values\n",
    "            formatted_result[key] = value\n",
    "\n",
    "    # Print the formatted result as a dictionary\n",
    "    print(formatted_result)"
   ]
  },
  {
   "cell_type": "code",
   "execution_count": 19,
   "metadata": {
    "colab": {
     "base_uri": "https://localhost:8080/"
    },
    "id": "FHgHCzxB0qsw",
    "outputId": "aae8caf8-0a11-4f56-bc3e-ca74c7a900d3"
   },
   "outputs": [
    {
     "name": "stdout",
     "output_type": "stream",
     "text": [
      "Leadership, Retail Management\n"
     ]
    }
   ],
   "source": [
    "job = json_res\n",
    "first_job = job[0]\n",
    "skills = first_job['skills']\n",
    "print(skills)"
   ]
  },
  {
   "cell_type": "code",
   "execution_count": 20,
   "metadata": {
    "id": "5CIgeu0F2HCQ"
   },
   "outputs": [],
   "source": [
    "prompt_email = PromptTemplate.from_template(\n",
    "        \"\"\"\n",
    "        ### JOB DESCRIPTION:\n",
    "        {job_description}\n",
    "\n",
    "        ### INSTRUCTION:\n",
    "        You are Mohan, a business development executive at AtliQ. AtliQ is an AI & Software Consulting company dedicated to facilitating\n",
    "        the seamless integration of business processes through automated tools.\n",
    "        Over our experience, we have empowered numerous enterprises with tailored solutions, fostering scalability,\n",
    "        process optimization, cost reduction, and heightened overall efficiency.\n",
    "        Your job is to write a cold email to the client regarding the job mentioned above describing the capability of AtliQ\n",
    "        in fulfilling their needs.\n",
    "        Also add the most relevant ones from the following links to showcase Atliq's portfolio: {link_list}\n",
    "        Remember you are Mohan, BDE at AtliQ.\n",
    "        Do not provide a preamble.\n",
    "        ### EMAIL (NO PREAMBLE):\n",
    "\n",
    "        \"\"\"\n",
    "        )\n",
    "\n",
    "chain_email = prompt_email | llm\n"
   ]
  },
  {
   "cell_type": "code",
   "execution_count": 21,
   "metadata": {
    "colab": {
     "base_uri": "https://localhost:8080/"
    },
    "id": "wuU_YVD1OkH6",
    "outputId": "1aa52826-04ad-443e-8107-89fdfa6d290b"
   },
   "outputs": [
    {
     "name": "stderr",
     "output_type": "stream",
     "text": [
      "ERROR: Invalid requirement: '#': Expected package name at the start of dependency specifier\n",
      "    #\n",
      "    ^\n"
     ]
    }
   ],
   "source": [
    "!python -m pip install langchain_groq # Install the required package\n",
    "from langchain_groq import ChatGroq  # Import ChatGroq correctly"
   ]
  },
  {
   "cell_type": "code",
   "execution_count": 22,
   "metadata": {
    "colab": {
     "base_uri": "https://localhost:8080/"
    },
    "id": "X6B0mZ_CO0XT",
    "outputId": "d9187d91-e4d6-4178-c5ff-c9cfec046bb5"
   },
   "outputs": [
    {
     "name": "stdout",
     "output_type": "stream",
     "text": [
      "Requirement already satisfied: langchain_groq in c:\\users\\shreyash verma\\.conda\\envs\\ienv\\lib\\site-packages (0.1.10)\n",
      "Requirement already satisfied: groq<1,>=0.4.1 in c:\\users\\shreyash verma\\.conda\\envs\\ienv\\lib\\site-packages (from langchain_groq) (0.12.0)\n",
      "Requirement already satisfied: langchain-core<0.3.0,>=0.2.39 in c:\\users\\shreyash verma\\.conda\\envs\\ienv\\lib\\site-packages (from langchain_groq) (0.2.43)\n",
      "Requirement already satisfied: anyio<5,>=3.5.0 in c:\\users\\shreyash verma\\.conda\\envs\\ienv\\lib\\site-packages (from groq<1,>=0.4.1->langchain_groq) (4.4.0)\n",
      "Requirement already satisfied: distro<2,>=1.7.0 in c:\\users\\shreyash verma\\.conda\\envs\\ienv\\lib\\site-packages (from groq<1,>=0.4.1->langchain_groq) (1.9.0)\n",
      "Requirement already satisfied: httpx<1,>=0.23.0 in c:\\users\\shreyash verma\\.conda\\envs\\ienv\\lib\\site-packages (from groq<1,>=0.4.1->langchain_groq) (0.27.2)\n",
      "Requirement already satisfied: pydantic<3,>=1.9.0 in c:\\users\\shreyash verma\\.conda\\envs\\ienv\\lib\\site-packages (from groq<1,>=0.4.1->langchain_groq) (2.8.2)\n",
      "Requirement already satisfied: sniffio in c:\\users\\shreyash verma\\.conda\\envs\\ienv\\lib\\site-packages (from groq<1,>=0.4.1->langchain_groq) (1.3.1)\n",
      "Requirement already satisfied: typing-extensions<5,>=4.7 in c:\\users\\shreyash verma\\.conda\\envs\\ienv\\lib\\site-packages (from groq<1,>=0.4.1->langchain_groq) (4.12.2)\n",
      "Requirement already satisfied: PyYAML>=5.3 in c:\\users\\shreyash verma\\.conda\\envs\\ienv\\lib\\site-packages (from langchain-core<0.3.0,>=0.2.39->langchain_groq) (6.0.1)\n",
      "Requirement already satisfied: jsonpatch<2.0,>=1.33 in c:\\users\\shreyash verma\\.conda\\envs\\ienv\\lib\\site-packages (from langchain-core<0.3.0,>=0.2.39->langchain_groq) (1.33)\n",
      "Requirement already satisfied: langsmith<0.2.0,>=0.1.112 in c:\\users\\shreyash verma\\.conda\\envs\\ienv\\lib\\site-packages (from langchain-core<0.3.0,>=0.2.39->langchain_groq) (0.1.143)\n",
      "Requirement already satisfied: packaging<25,>=23.2 in c:\\users\\shreyash verma\\.conda\\envs\\ienv\\lib\\site-packages (from langchain-core<0.3.0,>=0.2.39->langchain_groq) (24.1)\n",
      "Requirement already satisfied: tenacity!=8.4.0,<9.0.0,>=8.1.0 in c:\\users\\shreyash verma\\.conda\\envs\\ienv\\lib\\site-packages (from langchain-core<0.3.0,>=0.2.39->langchain_groq) (8.5.0)\n",
      "Requirement already satisfied: idna>=2.8 in c:\\users\\shreyash verma\\.conda\\envs\\ienv\\lib\\site-packages (from anyio<5,>=3.5.0->groq<1,>=0.4.1->langchain_groq) (3.7)\n",
      "Requirement already satisfied: exceptiongroup>=1.0.2 in c:\\users\\shreyash verma\\.conda\\envs\\ienv\\lib\\site-packages (from anyio<5,>=3.5.0->groq<1,>=0.4.1->langchain_groq) (1.2.2)\n",
      "Requirement already satisfied: certifi in c:\\users\\shreyash verma\\.conda\\envs\\ienv\\lib\\site-packages (from httpx<1,>=0.23.0->groq<1,>=0.4.1->langchain_groq) (2024.8.30)\n",
      "Requirement already satisfied: httpcore==1.* in c:\\users\\shreyash verma\\.conda\\envs\\ienv\\lib\\site-packages (from httpx<1,>=0.23.0->groq<1,>=0.4.1->langchain_groq) (1.0.5)\n",
      "Requirement already satisfied: h11<0.15,>=0.13 in c:\\users\\shreyash verma\\.conda\\envs\\ienv\\lib\\site-packages (from httpcore==1.*->httpx<1,>=0.23.0->groq<1,>=0.4.1->langchain_groq) (0.14.0)\n",
      "Requirement already satisfied: jsonpointer>=1.9 in c:\\users\\shreyash verma\\.conda\\envs\\ienv\\lib\\site-packages (from jsonpatch<2.0,>=1.33->langchain-core<0.3.0,>=0.2.39->langchain_groq) (3.0.0)\n",
      "Requirement already satisfied: orjson<4.0.0,>=3.9.14 in c:\\users\\shreyash verma\\.conda\\envs\\ienv\\lib\\site-packages (from langsmith<0.2.0,>=0.1.112->langchain-core<0.3.0,>=0.2.39->langchain_groq) (3.10.11)\n",
      "Requirement already satisfied: requests<3,>=2 in c:\\users\\shreyash verma\\.conda\\envs\\ienv\\lib\\site-packages (from langsmith<0.2.0,>=0.1.112->langchain-core<0.3.0,>=0.2.39->langchain_groq) (2.32.3)\n",
      "Requirement already satisfied: requests-toolbelt<2.0.0,>=1.0.0 in c:\\users\\shreyash verma\\.conda\\envs\\ienv\\lib\\site-packages (from langsmith<0.2.0,>=0.1.112->langchain-core<0.3.0,>=0.2.39->langchain_groq) (1.0.0)\n",
      "Requirement already satisfied: annotated-types>=0.4.0 in c:\\users\\shreyash verma\\.conda\\envs\\ienv\\lib\\site-packages (from pydantic<3,>=1.9.0->groq<1,>=0.4.1->langchain_groq) (0.7.0)\n",
      "Requirement already satisfied: pydantic-core==2.20.1 in c:\\users\\shreyash verma\\.conda\\envs\\ienv\\lib\\site-packages (from pydantic<3,>=1.9.0->groq<1,>=0.4.1->langchain_groq) (2.20.1)\n",
      "Requirement already satisfied: charset-normalizer<4,>=2 in c:\\users\\shreyash verma\\.conda\\envs\\ienv\\lib\\site-packages (from requests<3,>=2->langsmith<0.2.0,>=0.1.112->langchain-core<0.3.0,>=0.2.39->langchain_groq) (3.3.2)\n",
      "Requirement already satisfied: urllib3<3,>=1.21.1 in c:\\users\\shreyash verma\\.conda\\envs\\ienv\\lib\\site-packages (from requests<3,>=2->langsmith<0.2.0,>=0.1.112->langchain-core<0.3.0,>=0.2.39->langchain_groq) (2.2.2)\n"
     ]
    }
   ],
   "source": [
    "!python -m pip install langchain_groq\n",
    "import pandas as pd\n",
    "import uuid\n",
    "import chromadb\n",
    "from langchain import PromptTemplate, LLMChain\n",
    "from langchain_groq import ChatGroq\n",
    "\n"
   ]
  },
  {
   "cell_type": "code",
   "execution_count": 23,
   "metadata": {
    "colab": {
     "base_uri": "https://localhost:8080/"
    },
    "id": "2WYS6fZEOwWT",
    "outputId": "4ff7a399-06e7-4ed1-8187-8470ab287f9b"
   },
   "outputs": [
    {
     "name": "stdout",
     "output_type": "stream",
     "text": [
      "Subject: Unlocking Efficiency and Scalability for Walmart's Business Operations\n",
      "\n",
      "Dear Hiring Manager,\n",
      "\n",
      "I came across the various job openings at Walmart, and I was impressed by the company's commitment to innovation and customer satisfaction. As a Business Development Executive at AtliQ, I believe our expertise in AI and software consulting can help Walmart streamline its business processes, enhance scalability, and reduce costs.\n",
      "\n",
      "Our team at AtliQ has extensive experience in developing tailored solutions for enterprises, leveraging cutting-edge technologies to drive efficiency and growth. We've empowered numerous clients across various industries, and I'd like to highlight a few relevant examples from our portfolio:\n",
      "\n",
      "* Our expertise in Java development can be seen in our [Java portfolio](https://example.com/java-portfolio), where we've built scalable and efficient solutions for clients.\n",
      "* Our experience in Machine Learning and Python can be showcased in our [ML-Python portfolio](https://example.com/ml-python-portfolio), where we've developed predictive models and data analytics solutions for businesses.\n",
      "* Our proficiency in Android app development can be demonstrated through our [Android TV portfolio](https://example.com/android-tv-portfolio), where we've created engaging and user-friendly applications for clients.\n",
      "\n",
      "AtliQ can help Walmart in various areas, such as:\n",
      "\n",
      "* Developing custom software solutions for data analytics, business intelligence, and cybersecurity\n",
      "* Implementing AI-powered tools for process automation, customer service, and supply chain management\n",
      "* Creating mobile apps for employee engagement, customer experience, and operational efficiency\n",
      "* Providing data science and machine learning expertise for predictive modeling and decision-making\n",
      "\n",
      "I'd love to schedule a call to discuss how AtliQ can support Walmart's business goals and objectives. Please let me know if you're available for a conversation.\n",
      "\n",
      "Best regards,\n",
      "\n",
      "Mohan\n",
      "Business Development Executive\n",
      "AtliQ\n",
      "[mohan@atliq.com](mailto:mohan@atliq.com)\n",
      "+91 1234567890\n"
     ]
    }
   ],
   "source": [
    "job = json_res\n",
    "first_job = job[0]\n",
    "skills = first_job['skills']\n",
    "results = collection.query(query_texts=[\", \".join(skills)], n_results=5)\n",
    "links = [result_metadata.get(\"links\") for result_metadata in results['metadatas'][0]]\n",
    "res = chain_email.invoke({\"job_description\": str(job), \"link_list\": links})\n",
    "print(res.content)"
   ]
  }
 ],
 "metadata": {
  "accelerator": "GPU",
  "colab": {
   "gpuType": "T4",
   "provenance": []
  },
  "kernelspec": {
   "display_name": "ienv",
   "language": "python",
   "name": "python3"
  },
  "language_info": {
   "codemirror_mode": {
    "name": "ipython",
    "version": 3
   },
   "file_extension": ".py",
   "mimetype": "text/x-python",
   "name": "python",
   "nbconvert_exporter": "python",
   "pygments_lexer": "ipython3",
   "version": "3.8.19"
  }
 },
 "nbformat": 4,
 "nbformat_minor": 0
}
